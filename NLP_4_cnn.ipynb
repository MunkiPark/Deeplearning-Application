{
  "cells": [
    {
      "cell_type": "markdown",
      "metadata": {
        "id": "view-in-github",
        "colab_type": "text"
      },
      "source": [
        "<a href=\"https://colab.research.google.com/github/MunkiPark/Deeplearning-Application/blob/main/NLP_4_cnn.ipynb\" target=\"_parent\"><img src=\"https://colab.research.google.com/assets/colab-badge.svg\" alt=\"Open In Colab\"/></a>"
      ]
    },
    {
      "cell_type": "markdown",
      "metadata": {
        "id": "J5Qr0PsCKgal"
      },
      "source": [
        "## NLP part 4\n",
        "WaveNet 2016 from DeepMind https://arxiv.org/abs/1609.03499\n"
      ]
    },
    {
      "cell_type": "code",
      "metadata": {
        "ExecuteTime": {
          "end_time": "2024-12-03T04:47:22.072807400Z",
          "start_time": "2024-12-03T04:47:19.140423Z"
        },
        "id": "ESAIbPGYKgan"
      },
      "source": [
        "import torch\n",
        "import torch.nn.functional as F\n",
        "import matplotlib.pyplot as plt # for making figures\n",
        "%matplotlib inline"
      ],
      "outputs": [],
      "execution_count": null
    },
    {
      "cell_type": "code",
      "source": [
        "from google.colab import drive\n",
        "drive.mount('/content/drive')"
      ],
      "metadata": {
        "colab": {
          "base_uri": "https://localhost:8080/"
        },
        "id": "JXpfzvdyKmec",
        "outputId": "ea43d3ab-724d-4b35-eedb-22e5dd55bb5d"
      },
      "execution_count": null,
      "outputs": [
        {
          "output_type": "stream",
          "name": "stdout",
          "text": [
            "Mounted at /content/drive\n"
          ]
        }
      ]
    },
    {
      "cell_type": "code",
      "metadata": {
        "ExecuteTime": {
          "end_time": "2024-12-03T04:47:27.261226400Z",
          "start_time": "2024-12-03T04:47:27.247721800Z"
        },
        "colab": {
          "base_uri": "https://localhost:8080/"
        },
        "id": "gSY3eFBkKgao",
        "outputId": "0ea63657-4af4-49a9-f414-a67b582d64ac"
      },
      "source": [
        "# read in all the words\n",
        "words = open('/content/drive/MyDrive/DeepApp/names.txt', 'r').read().splitlines()\n",
        "print(len(words))\n",
        "print(max(len(w) for w in words))\n",
        "print(words[:8])"
      ],
      "outputs": [
        {
          "output_type": "stream",
          "name": "stdout",
          "text": [
            "32033\n",
            "15\n",
            "['emma', 'olivia', 'ava', 'isabella', 'sophia', 'charlotte', 'mia', 'amelia']\n"
          ]
        }
      ],
      "execution_count": null
    },
    {
      "cell_type": "code",
      "metadata": {
        "ExecuteTime": {
          "end_time": "2024-12-03T04:47:28.433098600Z",
          "start_time": "2024-12-03T04:47:28.429109900Z"
        },
        "colab": {
          "base_uri": "https://localhost:8080/"
        },
        "id": "Xl8YCl9yKgap",
        "outputId": "baf20cd9-31b0-4d5a-9c23-9f6e57aa02ec"
      },
      "source": [
        "# build the vocabulary of characters and mappings to/from integers\n",
        "chars = sorted(list(set(''.join(words))))\n",
        "stoi = {s:i+1 for i,s in enumerate(chars)}\n",
        "stoi['.'] = 0\n",
        "itos = {i:s for s,i in stoi.items()}\n",
        "vocab_size = len(itos)\n",
        "print(itos)\n",
        "print(vocab_size)"
      ],
      "outputs": [
        {
          "output_type": "stream",
          "name": "stdout",
          "text": [
            "{1: 'a', 2: 'b', 3: 'c', 4: 'd', 5: 'e', 6: 'f', 7: 'g', 8: 'h', 9: 'i', 10: 'j', 11: 'k', 12: 'l', 13: 'm', 14: 'n', 15: 'o', 16: 'p', 17: 'q', 18: 'r', 19: 's', 20: 't', 21: 'u', 22: 'v', 23: 'w', 24: 'x', 25: 'y', 26: 'z', 0: '.'}\n",
            "27\n"
          ]
        }
      ],
      "execution_count": null
    },
    {
      "cell_type": "code",
      "metadata": {
        "ExecuteTime": {
          "end_time": "2024-12-03T04:47:29.251092Z",
          "start_time": "2024-12-03T04:47:29.241573700Z"
        },
        "id": "X7NZDzHFKgap"
      },
      "source": [
        "# shuffle up the words\n",
        "import random\n",
        "random.seed(42)\n",
        "random.shuffle(words)"
      ],
      "outputs": [],
      "execution_count": null
    },
    {
      "cell_type": "code",
      "metadata": {
        "ExecuteTime": {
          "end_time": "2024-12-03T04:47:32.029404100Z",
          "start_time": "2024-12-03T04:47:31.628580900Z"
        },
        "colab": {
          "base_uri": "https://localhost:8080/"
        },
        "id": "aMeeZez5Kgaq",
        "outputId": "3f68d487-1003-41f9-aaf1-4145e1824c51"
      },
      "source": [
        "# build the dataset\n",
        "block_size = 8 # context length: how many characters do we take to predict the next one?\n",
        "\n",
        "def build_dataset(words):\n",
        "  X, Y = [], []\n",
        "\n",
        "  for w in words:\n",
        "    context = [0] * block_size\n",
        "    for ch in w + '.':\n",
        "      ix = stoi[ch]\n",
        "      X.append(context)\n",
        "      Y.append(ix)\n",
        "      context = context[1:] + [ix] # crop and append\n",
        "\n",
        "  X = torch.tensor(X)\n",
        "  Y = torch.tensor(Y)\n",
        "  print(X.shape, Y.shape)\n",
        "  return X, Y\n",
        "\n",
        "n1 = int(0.8*len(words))\n",
        "n2 = int(0.9*len(words))\n",
        "Xtr,  Ytr  = build_dataset(words[:n1])     # 80%\n",
        "Xdev, Ydev = build_dataset(words[n1:n2])   # 10%\n",
        "Xte,  Yte  = build_dataset(words[n2:])     # 10%"
      ],
      "outputs": [
        {
          "output_type": "stream",
          "name": "stdout",
          "text": [
            "torch.Size([182625, 8]) torch.Size([182625])\n",
            "torch.Size([22655, 8]) torch.Size([22655])\n",
            "torch.Size([22866, 8]) torch.Size([22866])\n"
          ]
        }
      ],
      "execution_count": null
    },
    {
      "cell_type": "code",
      "metadata": {
        "ExecuteTime": {
          "end_time": "2024-12-03T04:47:32.967989700Z",
          "start_time": "2024-12-03T04:47:32.962680300Z"
        },
        "colab": {
          "base_uri": "https://localhost:8080/"
        },
        "id": "hIumL7hFKgar",
        "outputId": "6c94e86a-1fdd-464b-8ebf-cd025f5b5049"
      },
      "source": [
        "for x,y in zip(Xtr[:20], Ytr[:20]):\n",
        "  print(''.join(itos[ix.item()] for ix in x), '-->', itos[y.item()])"
      ],
      "outputs": [
        {
          "output_type": "stream",
          "name": "stdout",
          "text": [
            "........ --> y\n",
            ".......y --> u\n",
            "......yu --> h\n",
            ".....yuh --> e\n",
            "....yuhe --> n\n",
            "...yuhen --> g\n",
            "..yuheng --> .\n",
            "........ --> d\n",
            ".......d --> i\n",
            "......di --> o\n",
            ".....dio --> n\n",
            "....dion --> d\n",
            "...diond --> r\n",
            "..diondr --> e\n",
            ".diondre --> .\n",
            "........ --> x\n",
            ".......x --> a\n",
            "......xa --> v\n",
            ".....xav --> i\n",
            "....xavi --> e\n"
          ]
        }
      ],
      "execution_count": null
    },
    {
      "cell_type": "markdown",
      "source": [
        "### Building wavenet"
      ],
      "metadata": {
        "collapsed": false,
        "id": "LwciEgXGKgas"
      }
    },
    {
      "cell_type": "code",
      "metadata": {
        "ExecuteTime": {
          "end_time": "2024-12-03T04:50:35.991335800Z",
          "start_time": "2024-12-03T04:50:35.973333800Z"
        },
        "id": "izEltrM9Kgas"
      },
      "source": [
        "# Near copy paste of the layers we have developed in Part 3\n",
        "# but FlattenConsecutive added\n",
        "# and BatchNorm1d is revised for wavened\n",
        "\n",
        "# -----------------------------------------------------------------------------------------------\n",
        "class Linear:\n",
        "\n",
        "  def __init__(self, fan_in, fan_out, bias=True): #fan_in : 입력 dim=이전 layer의 node 수, fan_out : 출력 dim=현재 layer의 node 수\n",
        "    self.weight = torch.randn((fan_in, fan_out)) / fan_in**0.5 # note: kaiming init\n",
        "    self.bias = torch.zeros(fan_out) if bias else None\n",
        "\n",
        "  def __call__(self, x):\n",
        "    self.out = x @ self.weight\n",
        "    if self.bias is not None:\n",
        "      self.out += self.bias\n",
        "    return self.out\n",
        "\n",
        "  def parameters(self):\n",
        "    return [self.weight] + ([] if self.bias is None else [self.bias])\n",
        "\n",
        "# -----------------------------------------------------------------------------------------------\n",
        "class BatchNorm1d: #NLP 3의 batchnorm에서 dim 바꾸는 부분 추가\n",
        "\n",
        "  def __init__(self, dim, eps=1e-5, momentum=0.1):\n",
        "    self.eps = eps\n",
        "    self.momentum = momentum\n",
        "    self.training = True\n",
        "    # parameters (trained with backprop) : 해당 batch에서 계산한 값\n",
        "    self.gamma = torch.ones(dim)\n",
        "    self.beta = torch.zeros(dim)\n",
        "    # buffers (trained with a running 'momentum update') : 최종적으로 momentum update로 학습된 값\n",
        "    self.running_mean = torch.zeros(dim)\n",
        "    self.running_var = torch.ones(dim)\n",
        "\n",
        "  def __call__(self, x):\n",
        "    # calculate the forward pass\n",
        "    if self.training:\n",
        "      if x.ndim == 2: #(B, C)일 때 : flatten된 상태일 때 -> B : batch안 의 sample 개수 / C : sample의 구성 요소 개수\n",
        "        dim = 0\n",
        "      elif x.ndim == 3: #(B, T, C)일 때 : 아직 flatten 안된 상태일 때 -> B : batch안 의 sample 개수 / T : sample 1개의 글자 개수 / C : 글자 1개의 embadding 개수\n",
        "        dim = (0,1)\n",
        "      xmean = x.mean(dim, keepdim=True) # batch mean\n",
        "      xvar = x.var(dim, keepdim=True) # batch variance\n",
        "      # dim=0 : 각 배치 안의 C들에 대한 평균, 분산\n",
        "      # dim=(0,1) : 각 배치 안의 stream 안의 C에 대한 평균, 분산 -> sample 안에서의 모든 embadding들의 mean, val\n",
        "    else:\n",
        "      xmean = self.running_mean\n",
        "      xvar = self.running_var\n",
        "    xhat = (x - xmean) / torch.sqrt(xvar + self.eps) # normalize to unit variance\n",
        "    self.out = self.gamma * xhat + self.beta\n",
        "    # update the buffers\n",
        "    if self.training:\n",
        "      with torch.no_grad():\n",
        "        self.running_mean = (1 - self.momentum) * self.running_mean + self.momentum * xmean\n",
        "        self.running_var = (1 - self.momentum) * self.running_var + self.momentum * xvar\n",
        "    return self.out\n",
        "\n",
        "  def parameters(self):\n",
        "    return [self.gamma, self.beta]\n",
        "\n",
        "# -----------------------------------------------------------------------------------------------\n",
        "class Tanh:\n",
        "  def __call__(self, x):\n",
        "    self.out = torch.tanh(x)\n",
        "    return self.out\n",
        "  def parameters(self):\n",
        "    return []\n",
        "\n",
        "# -----------------------------------------------------------------------------------------------\n",
        "class Embedding:\n",
        "\n",
        "  def __init__(self, num_embeddings, embedding_dim): # 아래에서 27(알파벳 개수)*10(각 알파벳마다 할당되는 10개의 값=크기가 10인 벡터)이 들어감\n",
        "    self.weight = torch.randn((num_embeddings, embedding_dim))\n",
        "\n",
        "  def __call__(self, IX):\n",
        "    self.out = self.weight[IX] # IX가 [1, 3, 5]라면, self.weight의 1, 3, 5번 행(a,c,e)에 해당하는 벡터들이 반환\n",
        "    return self.out\n",
        "\n",
        "    # IX가 스칼라일 때:\n",
        "    # self.out의 크기: (embedding_dim,) -> list 1개\n",
        "    # 예: (10,) (벡터 하나)\n",
        "\n",
        "    # IX가 1D 텐서일 때:\n",
        "    # self.out의 크기: (len(IX), embedding_dim) -> len(IX)개의 list를 묶은 list\n",
        "    # 예: (3, 10) (3개의 벡터)\n",
        "\n",
        "    # IX.shape = (2, 2)라면:\n",
        "    # self.out의 크기: (2, 2, embedding_dim) -> list 4개를 (2, 2)로 묶은 list\n",
        "    # 예: (2, 2, 10) (2x2 행렬, 각 요소가 벡터)\n",
        "\n",
        "  def parameters(self):\n",
        "    return [self.weight]\n",
        "\n",
        "# -----------------------------------------------------------------------------------------------\n",
        "class FlattenConsecutive: # 이 클래스 빼고는 NLP3의 layer들과 같음\n",
        "\n",
        "  def __init__(self, n):\n",
        "    self.n = n                                                  # Number of consecutive elements to flatten\n",
        "\n",
        "  def __call__(self, x):\n",
        "    B, T, C = x.shape                                           # Get B : batch size, T : sequence length = sample의 글자 개수, and C : channels = embadding\n",
        "    x = x.view(B, T//self.n, C*self.n)                          # Reshape to combine consecutive elements -> T를 줄이고 그만큼 C를 증가 / 전체 양은 변화X\n",
        "    if x.shape[1] == 1:\n",
        "      x = x.squeeze(1)                                          # Remove dimension if sequence length is 1\n",
        "    self.out = x\n",
        "    return self.out\n",
        "\n",
        "  def parameters(self):\n",
        "    return []                                                   # No parameters to optimize\n",
        "\n",
        "# -----------------------------------------------------------------------------------------------\n",
        "class Sequential:\n",
        "\n",
        "  def __init__(self, layers):\n",
        "    self.layers = layers\n",
        "\n",
        "  def __call__(self, x):\n",
        "    for layer in self.layers:\n",
        "      x = layer(x)\n",
        "    self.out = x\n",
        "    return self.out\n",
        "\n",
        "  def parameters(self):\n",
        "    # get parameters of all layers and stretch them out into one list\n",
        "    return [p for layer in self.layers for p in layer.parameters()]"
      ],
      "outputs": [],
      "execution_count": null
    },
    {
      "cell_type": "code",
      "metadata": {
        "ExecuteTime": {
          "end_time": "2024-12-03T04:50:37.193632600Z",
          "start_time": "2024-12-03T04:50:37.188133500Z"
        },
        "id": "k7Rjo42mKgat"
      },
      "source": [
        "torch.manual_seed(42); # seed rng for reproducibility"
      ],
      "outputs": [],
      "execution_count": null
    },
    {
      "cell_type": "code",
      "metadata": {
        "ExecuteTime": {
          "end_time": "2024-12-03T04:50:37.703375800Z",
          "start_time": "2024-12-03T04:50:37.697383Z"
        },
        "colab": {
          "base_uri": "https://localhost:8080/"
        },
        "id": "SaeElNAvKgat",
        "outputId": "87b13d23-e52a-4434-ff3e-17d2a2799e73"
      },
      "source": [
        "# original network\n",
        "n_embd = 10 # the dimensionality of the character embedding vectors : 각 알파벳들이 가질 10개의 값\n",
        "n_hidden = 300 # the number of neurons in the hidden layer of the MLP : hidden layer의 node 개수\n",
        "# model = Sequential([\n",
        "#   Embedding(vocab_size, n_embd),\n",
        "#   FlattenConsecutive(8), Linear(n_embd * 8, n_hidden, bias=False), BatchNorm1d(n_hidden), Tanh(),\n",
        "#   Linear(n_hidden, vocab_size),\n",
        "# ])\n",
        "\n",
        "# hierarchical network\n",
        "#n_embd = 24 # the dimensionality of the character embedding vectors\n",
        "#n_hidden = 128 # the number of neurons in the hidden layer of the MLP\n",
        "model = Sequential([\n",
        "  Embedding(vocab_size, n_embd), # vocab_size = 27, n_embd = 10 -> output : (4, 8, 10)\n",
        "  FlattenConsecutive(2), Linear(n_embd * 2, n_hidden, bias=False), BatchNorm1d(n_hidden), Tanh(), # FlattenConsecutive(2) : 각 sample 1개의 글자의 개수를 0.5로 줄이고 글자당 embadding의 수를 2배로 증가\n",
        "  FlattenConsecutive(2), Linear(n_hidden*2, n_hidden, bias=False), BatchNorm1d(n_hidden), Tanh(),\n",
        "  FlattenConsecutive(2), Linear(n_hidden*2, n_hidden, bias=False), BatchNorm1d(n_hidden), Tanh(),\n",
        "  Linear(n_hidden, vocab_size),\n",
        "])\n",
        "\n",
        "# parameter init\n",
        "with torch.no_grad():\n",
        "  model.layers[-1].weight *= 0.1 # last layer make less confident\n",
        "\n",
        "parameters = model.parameters()\n",
        "print(sum(p.nelement() for p in parameters)) # number of parameters in total\n",
        "for p in parameters:\n",
        "  p.requires_grad = True"
      ],
      "outputs": [
        {
          "output_type": "stream",
          "name": "stdout",
          "text": [
            "376197\n"
          ]
        }
      ],
      "execution_count": null
    },
    {
      "cell_type": "markdown",
      "source": [
        "### Concat two chars"
      ],
      "metadata": {
        "collapsed": false,
        "id": "OfiBjeANKgau"
      }
    },
    {
      "cell_type": "code",
      "execution_count": null,
      "outputs": [
        {
          "output_type": "stream",
          "name": "stdout",
          "text": [
            "ix : tensor([180657,  53319,  68285,  66775])\n",
            "logits : torch.Size([4, 27])\n",
            "torch.Size([4, 8])\n"
          ]
        },
        {
          "output_type": "execute_result",
          "data": {
            "text/plain": [
              "tensor([[-0.0487,  0.1271,  0.0997,  0.0300, -0.0236, -0.0538, -0.0781, -0.0633,\n",
              "         -0.0575,  0.0650, -0.1348,  0.0180, -0.0367, -0.0263, -0.1466, -0.0364,\n",
              "         -0.0567,  0.1165, -0.0574,  0.0200, -0.0367, -0.0047,  0.0048,  0.0985,\n",
              "          0.0120, -0.0225,  0.1369],\n",
              "        [-0.0092, -0.0109, -0.1717, -0.0614,  0.0425,  0.0507,  0.0116,  0.0185,\n",
              "         -0.1246, -0.1152,  0.1288,  0.0548, -0.0064,  0.0236, -0.0650,  0.0383,\n",
              "         -0.0041, -0.0140,  0.0735, -0.1577,  0.0354, -0.0335,  0.0844, -0.0859,\n",
              "          0.1930,  0.0433, -0.0958],\n",
              "        [-0.0246, -0.0653,  0.0178,  0.0042,  0.0694,  0.0060,  0.0266, -0.0004,\n",
              "          0.1225, -0.0131, -0.0312, -0.0978,  0.0401,  0.0412,  0.0824,  0.0462,\n",
              "          0.0426, -0.1129,  0.0301,  0.1511,  0.0228, -0.0159, -0.0556, -0.0041,\n",
              "         -0.0808, -0.0730, -0.0987],\n",
              "        [ 0.0799, -0.0255,  0.0612,  0.0858, -0.0692, -0.0084,  0.0245,  0.0191,\n",
              "          0.0901,  0.0571,  0.0048,  0.0432,  0.0261, -0.0165,  0.1103, -0.0681,\n",
              "          0.0499,  0.0173, -0.0479, -0.0214, -0.0318,  0.0708, -0.0855,  0.0028,\n",
              "         -0.1075,  0.0271,  0.0924]], grad_fn=<AddBackward0>)"
            ]
          },
          "metadata": {},
          "execution_count": 16
        }
      ],
      "source": [
        "ix = torch.randint(0, Xtr.shape[0], (4,))  # a batch of size 4 samples.\n",
        "print('ix :',ix) # training data개수 아래의 임의의 숫자 4개의 리스트 -> 해당 숫자들 번째의 data를 모아 하나의 batch 생성\n",
        "Xb, Yb = Xtr[ix], Ytr[ix] #각각 Xtr과 Ytr의 배치 1개\n",
        "logits = model(Xb) #배치 1개를 model에 넣은 결과 -> 4개의 data에 대한 Y_hat(27개의 알파벳 각각에 대한 확률)\n",
        "print('logits :',logits.shape)\n",
        "print(Xb.shape)\n",
        "logits"
      ],
      "metadata": {
        "ExecuteTime": {
          "end_time": "2024-12-03T04:52:10.910226300Z",
          "start_time": "2024-12-03T04:52:10.878672200Z"
        },
        "colab": {
          "base_uri": "https://localhost:8080/"
        },
        "id": "O3gNagXwKgau",
        "outputId": "34fa2e83-b874-4610-c427-72462fb76aa2"
      }
    },
    {
      "cell_type": "code",
      "execution_count": null,
      "outputs": [
        {
          "output_type": "stream",
          "name": "stdout",
          "text": [
            "Embedding : (4, 8, 10)\n",
            "FlattenConsecutive : (4, 4, 20)\n",
            "Linear : (4, 4, 300)\n",
            "BatchNorm1d : (4, 4, 300)\n",
            "Tanh : (4, 4, 300)\n",
            "FlattenConsecutive : (4, 2, 600)\n",
            "Linear : (4, 2, 300)\n",
            "BatchNorm1d : (4, 2, 300)\n",
            "Tanh : (4, 2, 300)\n",
            "FlattenConsecutive : (4, 600)\n",
            "Linear : (4, 300)\n",
            "BatchNorm1d : (4, 300)\n",
            "Tanh : (4, 300)\n",
            "Linear : (4, 27)\n"
          ]
        }
      ],
      "source": [
        "for layer in model.layers:\n",
        "  print(layer.__class__.__name__, ':', tuple(layer.out.shape))\n",
        "  #앞 쪽의 4 : batch의 sample 개수\n",
        "  #중간의 4 : 각 sample이 가지는 stream의 개수(원래는 8개의 글자였으나 flattenConsecutive 거치면서 그냥 stream이 되어버림)\n",
        "  #뒤쪽의 20 : 각 stream 안에 있는 20개의 embadding값\n",
        "  #각 글자들을 풀어내면서 마지막에는 embadding들의 list 형태로 출력\n",
        "  #변경 : [[a1,...,a10],[b1,...,b10],[c1,...c10],...,[h1,...,h10]] * 4 -> [[a1,...,a10,b1,...,b10],[c1,...,c10,d1,...,d10],...,[g1,...,g10,h1,...,h10]] * 4\n",
        "  #원래는 맨 처음 embadding에서 flatten을 완전히 끝낸 후 linear에 넣음 -> 여기서는 차원을 유지하면서 조금씩 flatten 진행"
      ],
      "metadata": {
        "ExecuteTime": {
          "end_time": "2024-12-03T04:52:11.767264600Z",
          "start_time": "2024-12-03T04:52:11.755272200Z"
        },
        "colab": {
          "base_uri": "https://localhost:8080/"
        },
        "id": "O_81z3RfKgav",
        "outputId": "0c415dac-d2c6-494f-8ea7-814a1a756071"
      }
    },
    {
      "cell_type": "markdown",
      "source": [
        "First, run the following code when we have 'original network' in above code (decomment original and comment hierarchical network)"
      ],
      "metadata": {
        "collapsed": false,
        "id": "-4PxezDpKgav"
      }
    },
    {
      "cell_type": "code",
      "execution_count": null,
      "outputs": [
        {
          "output_type": "execute_result",
          "data": {
            "text/plain": [
              "torch.Size([4, 8, 10])"
            ]
          },
          "metadata": {},
          "execution_count": 23
        }
      ],
      "source": [
        "a_ = model.layers[0].out.shape  # output of Embedding layer, [batchsize, block_size, n_emb]\n",
        "a_"
      ],
      "metadata": {
        "ExecuteTime": {
          "end_time": "2024-12-02T15:30:38.288586600Z",
          "start_time": "2024-12-02T15:30:38.287007100Z"
        },
        "colab": {
          "base_uri": "https://localhost:8080/"
        },
        "id": "XTBKjVyVKgav",
        "outputId": "547c11a1-31b0-4863-ef71-21b1a2557c35"
      }
    },
    {
      "cell_type": "code",
      "execution_count": null,
      "outputs": [
        {
          "output_type": "execute_result",
          "data": {
            "text/plain": [
              "torch.Size([4, 4, 20])"
            ]
          },
          "metadata": {},
          "execution_count": 25
        }
      ],
      "source": [
        "b_ = model.layers[1].out.shape  # output of Flatten layer, [batchsize, block_size//Number of consecutive elements to flatten, n_emb*Number of consecutive elements to flatten]\n",
        "b_"
      ],
      "metadata": {
        "ExecuteTime": {
          "end_time": "2024-12-02T15:30:39.448181900Z",
          "start_time": "2024-12-02T15:30:39.444687600Z"
        },
        "colab": {
          "base_uri": "https://localhost:8080/"
        },
        "id": "29pSauBZKgav",
        "outputId": "83da5d79-aafa-49d4-9779-2eb684ddf4c7"
      }
    },
    {
      "cell_type": "code",
      "execution_count": null,
      "outputs": [
        {
          "output_type": "stream",
          "name": "stdout",
          "text": [
            "torch.Size([4, 4, 300])\n"
          ]
        },
        {
          "output_type": "execute_result",
          "data": {
            "text/plain": [
              "tensor([[[-1.8123,  0.5623,  1.3253,  ..., -0.3096, -1.4505, -2.7775],\n",
              "         [-1.8123,  0.5623,  1.3253,  ..., -0.3096, -1.4505, -2.7775],\n",
              "         [-1.8123,  0.5623,  1.3253,  ..., -0.3096, -1.4505, -2.7775],\n",
              "         [-1.8123,  0.5623,  1.3253,  ..., -0.3096, -1.4505, -2.7775]],\n",
              "\n",
              "        [[-1.8123,  0.5623,  1.3253,  ..., -0.3096, -1.4505, -2.7775],\n",
              "         [-2.4211,  1.1148, -1.1410,  ..., -1.1537, -1.7525, -0.9856],\n",
              "         [-0.8970,  0.0185, -0.8479,  ...,  0.5230, -0.3436,  3.8189],\n",
              "         [-0.6375, -0.1351, -1.0036,  ...,  0.0399, -0.4199,  1.1216]],\n",
              "\n",
              "        [[-1.8123,  0.5623,  1.3253,  ..., -0.3096, -1.4505, -2.7775],\n",
              "         [-1.8123,  0.5623,  1.3253,  ..., -0.3096, -1.4505, -2.7775],\n",
              "         [-1.8123,  0.5623,  1.3253,  ..., -0.3096, -1.4505, -2.7775],\n",
              "         [-0.3522, -1.3902, -0.3368,  ..., -0.3427, -1.1694, -1.9676]],\n",
              "\n",
              "        [[-1.8123,  0.5623,  1.3253,  ..., -0.3096, -1.4505, -2.7775],\n",
              "         [-1.8123,  0.5623,  1.3253,  ..., -0.3096, -1.4505, -2.7775],\n",
              "         [-1.8123,  0.5623,  1.3253,  ..., -0.3096, -1.4505, -2.7775],\n",
              "         [ 0.2291,  0.8762, -0.5923,  ..., -0.6111, -0.4098,  0.3453]]],\n",
              "       grad_fn=<UnsafeViewBackward0>)"
            ]
          },
          "metadata": {},
          "execution_count": 30
        }
      ],
      "source": [
        "c_ = model.layers[2].out#.shape  # output of Linear layer [batchsize, block_size//Number of consecutive elements to flatten, n_hidden] n_hidden is sometimes called n_channel\n",
        "print(model.layers[2].weight.shape) # 20개가 들어가서 300개가 나옴\n",
        "c_"
      ],
      "metadata": {
        "ExecuteTime": {
          "end_time": "2024-12-02T15:30:41.718776700Z",
          "start_time": "2024-12-02T15:30:41.715282300Z"
        },
        "colab": {
          "base_uri": "https://localhost:8080/"
        },
        "id": "WIeSRM9wKgaw",
        "outputId": "f148765b-7966-4e70-eb40-439c030d98c7"
      }
    },
    {
      "cell_type": "code",
      "execution_count": null,
      "outputs": [
        {
          "output_type": "execute_result",
          "data": {
            "text/plain": [
              "torch.Size([4, 300])"
            ]
          },
          "metadata": {},
          "execution_count": 31
        }
      ],
      "source": [
        "# original network:\n",
        "# inside the Linear layer is\n",
        "(torch.randn(4,80) @ torch.randn(80,300) + torch.randn(300)).shape"
      ],
      "metadata": {
        "ExecuteTime": {
          "end_time": "2024-12-02T15:32:54.629929300Z",
          "start_time": "2024-12-02T15:32:54.626160700Z"
        },
        "colab": {
          "base_uri": "https://localhost:8080/"
        },
        "id": "l-EBlH9lKgaw",
        "outputId": "7a254d69-4bde-46ab-b996-b9ed70b0e15e"
      }
    },
    {
      "cell_type": "code",
      "execution_count": null,
      "outputs": [
        {
          "output_type": "error",
          "ename": "TypeError",
          "evalue": "randn(): argument 'size' (position 1) must be tuple of ints, but found element of type Tensor at pos 0",
          "traceback": [
            "\u001b[0;31m---------------------------------------------------------------------------\u001b[0m",
            "\u001b[0;31mTypeError\u001b[0m                                 Traceback (most recent call last)",
            "\u001b[0;32m<ipython-input-32-c0dd6022d6b4>\u001b[0m in \u001b[0;36m<cell line: 3>\u001b[0;34m()\u001b[0m\n\u001b[1;32m      1\u001b[0m \u001b[0;31m# hierarchical network:\u001b[0m\u001b[0;34m\u001b[0m\u001b[0;34m\u001b[0m\u001b[0m\n\u001b[1;32m      2\u001b[0m \u001b[0;31m# inside the Linear layer is\u001b[0m\u001b[0;34m\u001b[0m\u001b[0;34m\u001b[0m\u001b[0m\n\u001b[0;32m----> 3\u001b[0;31m \u001b[0mprint\u001b[0m\u001b[0;34m(\u001b[0m\u001b[0;34m(\u001b[0m\u001b[0mtorch\u001b[0m\u001b[0;34m.\u001b[0m\u001b[0mrandn\u001b[0m\u001b[0;34m(\u001b[0m\u001b[0mb_\u001b[0m\u001b[0;34m)\u001b[0m \u001b[0;34m@\u001b[0m \u001b[0mtorch\u001b[0m\u001b[0;34m.\u001b[0m\u001b[0mrandn\u001b[0m\u001b[0;34m(\u001b[0m\u001b[0mn_embd\u001b[0m \u001b[0;34m*\u001b[0m \u001b[0;36m2\u001b[0m\u001b[0;34m,\u001b[0m \u001b[0mn_hidden\u001b[0m\u001b[0;34m)\u001b[0m \u001b[0;34m+\u001b[0m \u001b[0mtorch\u001b[0m\u001b[0;34m.\u001b[0m\u001b[0mrandn\u001b[0m\u001b[0;34m(\u001b[0m\u001b[0mc_\u001b[0m\u001b[0;34m[\u001b[0m\u001b[0;34m-\u001b[0m\u001b[0;36m1\u001b[0m\u001b[0;34m]\u001b[0m\u001b[0;34m)\u001b[0m\u001b[0;34m)\u001b[0m\u001b[0;34m.\u001b[0m\u001b[0mshape\u001b[0m\u001b[0;34m)\u001b[0m\u001b[0;34m\u001b[0m\u001b[0;34m\u001b[0m\u001b[0m\n\u001b[0m\u001b[1;32m      4\u001b[0m \u001b[0;34m(\u001b[0m\u001b[0mtorch\u001b[0m\u001b[0;34m.\u001b[0m\u001b[0mrandn\u001b[0m\u001b[0;34m(\u001b[0m\u001b[0;36m4\u001b[0m\u001b[0;34m,\u001b[0m\u001b[0;36m4\u001b[0m\u001b[0;34m,\u001b[0m\u001b[0;36m48\u001b[0m\u001b[0;34m)\u001b[0m \u001b[0;34m@\u001b[0m \u001b[0mtorch\u001b[0m\u001b[0;34m.\u001b[0m\u001b[0mrandn\u001b[0m\u001b[0;34m(\u001b[0m\u001b[0;36m48\u001b[0m\u001b[0;34m,\u001b[0m\u001b[0;36m128\u001b[0m\u001b[0;34m)\u001b[0m \u001b[0;34m+\u001b[0m \u001b[0mtorch\u001b[0m\u001b[0;34m.\u001b[0m\u001b[0mrandn\u001b[0m\u001b[0;34m(\u001b[0m\u001b[0;36m128\u001b[0m\u001b[0;34m)\u001b[0m\u001b[0;34m)\u001b[0m\u001b[0;34m.\u001b[0m\u001b[0mshape\u001b[0m\u001b[0;34m\u001b[0m\u001b[0;34m\u001b[0m\u001b[0m\n",
            "\u001b[0;31mTypeError\u001b[0m: randn(): argument 'size' (position 1) must be tuple of ints, but found element of type Tensor at pos 0"
          ]
        }
      ],
      "source": [
        "# hierarchical network:\n",
        "# inside the Linear layer is\n",
        "print((torch.randn(b_) @ torch.randn(n_embd * 2, n_hidden) + torch.randn(c_[-1])).shape)\n",
        "(torch.randn(4,4,48) @ torch.randn(48,128) + torch.randn(128)).shape"
      ],
      "metadata": {
        "ExecuteTime": {
          "end_time": "2024-12-02T15:31:13.970657300Z",
          "start_time": "2024-12-02T15:31:13.958412300Z"
        },
        "colab": {
          "base_uri": "https://localhost:8080/",
          "height": 193
        },
        "id": "zvVHxjnUKgaw",
        "outputId": "53bf81dc-b0c5-45dd-c0c9-cda4b11cd6a0"
      }
    },
    {
      "cell_type": "code",
      "execution_count": null,
      "outputs": [],
      "source": [
        "# (1 2)(3 4)(5 6)(7 8)"
      ],
      "metadata": {
        "id": "-THqXQtSKgaw"
      }
    },
    {
      "cell_type": "code",
      "execution_count": null,
      "outputs": [
        {
          "output_type": "execute_result",
          "data": {
            "text/plain": [
              "[1, 3, 5, 7, 9]"
            ]
          },
          "metadata": {},
          "execution_count": 33
        }
      ],
      "source": [
        "list(range(10))[1::2] # 1부터 2씩 더해가면서 indexing"
      ],
      "metadata": {
        "ExecuteTime": {
          "end_time": "2024-12-02T15:34:35.235324200Z",
          "start_time": "2024-12-02T15:34:35.213691900Z"
        },
        "colab": {
          "base_uri": "https://localhost:8080/"
        },
        "id": "k8VyyBugKgaw",
        "outputId": "e3b00c17-729e-43ae-f7b2-57dedccb4f33"
      }
    },
    {
      "cell_type": "code",
      "execution_count": null,
      "outputs": [
        {
          "output_type": "execute_result",
          "data": {
            "text/plain": [
              "torch.Size([4, 4, 20])"
            ]
          },
          "metadata": {},
          "execution_count": 34
        }
      ],
      "source": [
        "e = torch.randn(4,8,10) # we want (4,4,20) such that 2 consecutive char (2*10 emb) becomes one input vector of size 20\n",
        "# [[10],[10],[10],[10],[10],[10],[10],[10]] -> [([10],[10]), ([10],[10]), ([10],[10]), ([10],[10])]\n",
        "explicit = torch.cat([e[:,::2,:], e[:,1::2,:]], dim=2)\n",
        "explicit.shape"
      ],
      "metadata": {
        "ExecuteTime": {
          "end_time": "2024-12-02T15:41:06.128003200Z",
          "start_time": "2024-12-02T15:41:06.124695400Z"
        },
        "colab": {
          "base_uri": "https://localhost:8080/"
        },
        "id": "7v_TlTY5Kgax",
        "outputId": "e63c33b3-0d34-4113-ef5b-a0e9b01b1f91"
      }
    },
    {
      "cell_type": "code",
      "execution_count": null,
      "outputs": [
        {
          "output_type": "execute_result",
          "data": {
            "text/plain": [
              "tensor([[[True, True, True, True, True, True, True, True, True, True, True,\n",
              "          True, True, True, True, True, True, True, True, True],\n",
              "         [True, True, True, True, True, True, True, True, True, True, True,\n",
              "          True, True, True, True, True, True, True, True, True],\n",
              "         [True, True, True, True, True, True, True, True, True, True, True,\n",
              "          True, True, True, True, True, True, True, True, True],\n",
              "         [True, True, True, True, True, True, True, True, True, True, True,\n",
              "          True, True, True, True, True, True, True, True, True]],\n",
              "\n",
              "        [[True, True, True, True, True, True, True, True, True, True, True,\n",
              "          True, True, True, True, True, True, True, True, True],\n",
              "         [True, True, True, True, True, True, True, True, True, True, True,\n",
              "          True, True, True, True, True, True, True, True, True],\n",
              "         [True, True, True, True, True, True, True, True, True, True, True,\n",
              "          True, True, True, True, True, True, True, True, True],\n",
              "         [True, True, True, True, True, True, True, True, True, True, True,\n",
              "          True, True, True, True, True, True, True, True, True]],\n",
              "\n",
              "        [[True, True, True, True, True, True, True, True, True, True, True,\n",
              "          True, True, True, True, True, True, True, True, True],\n",
              "         [True, True, True, True, True, True, True, True, True, True, True,\n",
              "          True, True, True, True, True, True, True, True, True],\n",
              "         [True, True, True, True, True, True, True, True, True, True, True,\n",
              "          True, True, True, True, True, True, True, True, True],\n",
              "         [True, True, True, True, True, True, True, True, True, True, True,\n",
              "          True, True, True, True, True, True, True, True, True]],\n",
              "\n",
              "        [[True, True, True, True, True, True, True, True, True, True, True,\n",
              "          True, True, True, True, True, True, True, True, True],\n",
              "         [True, True, True, True, True, True, True, True, True, True, True,\n",
              "          True, True, True, True, True, True, True, True, True],\n",
              "         [True, True, True, True, True, True, True, True, True, True, True,\n",
              "          True, True, True, True, True, True, True, True, True],\n",
              "         [True, True, True, True, True, True, True, True, True, True, True,\n",
              "          True, True, True, True, True, True, True, True, True]]])"
            ]
          },
          "metadata": {},
          "execution_count": 35
        }
      ],
      "source": [
        "e.view(4,4,20) == explicit # 제대로 dim이 바뀌었는지 확인"
      ],
      "metadata": {
        "ExecuteTime": {
          "end_time": "2024-12-02T15:41:25.210799800Z",
          "start_time": "2024-12-02T15:41:25.198067400Z"
        },
        "colab": {
          "base_uri": "https://localhost:8080/"
        },
        "id": "hUjx49qTKgax",
        "outputId": "1686912a-9514-4fe2-858e-58d9249774d4"
      }
    },
    {
      "metadata": {
        "id": "_iqznFu3Kgax"
      },
      "cell_type": "markdown",
      "source": [
        "### See how model() is implemented\n"
      ]
    },
    {
      "cell_type": "code",
      "metadata": {
        "ExecuteTime": {
          "end_time": "2024-12-01T11:35:24.292027Z",
          "start_time": "2024-12-01T11:26:54.912955Z"
        },
        "id": "cxjoKrhTKgax",
        "outputId": "98415ee8-f2fa-4610-b615-765efdf0ced6",
        "colab": {
          "base_uri": "https://localhost:8080/"
        }
      },
      "source": [
        "# same optimization as last time\n",
        "max_steps = 200000\n",
        "batch_size = 32\n",
        "lossi = []\n",
        "\n",
        "for i in range(max_steps):\n",
        "\n",
        "  # minibatch construct\n",
        "  ix = torch.randint(0, Xtr.shape[0], (batch_size,))\n",
        "  Xb, Yb = Xtr[ix], Ytr[ix] # batch X,Y\n",
        "\n",
        "  # forward pass\n",
        "  logits = model(Xb)    # Now, we no longer have model related code in the training loop other than model()\n",
        "  loss = F.cross_entropy(logits, Yb) # loss function\n",
        "\n",
        "  # backward pass\n",
        "  for p in parameters:\n",
        "    p.grad = None\n",
        "  loss.backward()\n",
        "\n",
        "  # update: simple SGD\n",
        "  lr = 0.1 if i < 150000 else 0.01 # step learning rate decay\n",
        "  for p in parameters:\n",
        "    p.data += -lr * p.grad\n",
        "\n",
        "  # track stats\n",
        "  if i % 10000 == 0: # print every once in a while\n",
        "    print(f'{i:7d}/{max_steps:7d}: {loss.item():.4f}')\n",
        "  lossi.append(loss.log10().item())\n"
      ],
      "outputs": [
        {
          "output_type": "stream",
          "name": "stdout",
          "text": [
            "      0/ 200000: 3.2965\n",
            "  10000/ 200000: 2.4065\n",
            "  20000/ 200000: 1.9990\n",
            "  30000/ 200000: 2.2653\n",
            "  40000/ 200000: 2.1032\n",
            "  50000/ 200000: 2.2364\n",
            "  60000/ 200000: 1.7450\n",
            "  70000/ 200000: 1.7769\n",
            "  80000/ 200000: 2.3657\n",
            "  90000/ 200000: 2.1347\n",
            " 100000/ 200000: 1.9779\n",
            " 110000/ 200000: 1.9091\n",
            " 120000/ 200000: 1.9991\n",
            " 130000/ 200000: 1.9061\n",
            " 140000/ 200000: 2.2201\n",
            " 150000/ 200000: 1.8199\n",
            " 160000/ 200000: 1.9357\n",
            " 170000/ 200000: 1.4204\n",
            " 180000/ 200000: 1.4681\n",
            " 190000/ 200000: 1.7221\n"
          ]
        }
      ],
      "execution_count": null
    },
    {
      "metadata": {
        "ExecuteTime": {
          "end_time": "2024-12-01T11:36:07.262155Z",
          "start_time": "2024-12-01T11:36:06.959022Z"
        },
        "id": "OV6V9PLvKgay",
        "outputId": "5af7074b-25fd-4531-fd25-320c6f35fe0a",
        "colab": {
          "base_uri": "https://localhost:8080/",
          "height": 430
        }
      },
      "cell_type": "code",
      "source": [
        "plt.plot(lossi)\n",
        "plt.show()"
      ],
      "outputs": [
        {
          "output_type": "display_data",
          "data": {
            "text/plain": [
              "<Figure size 640x480 with 1 Axes>"
            ],
            "image/png": "[encoded data removed]"
          },
          "metadata": {}
        }
      ],
      "execution_count": null
    },
    {
      "cell_type": "code",
      "metadata": {
        "ExecuteTime": {
          "end_time": "2024-12-01T11:36:12.646402Z",
          "start_time": "2024-12-01T11:36:12.527226Z"
        },
        "id": "apjYxD-gKgay",
        "outputId": "7b48a9f3-8737-476a-fd58-52f05173f2fb",
        "colab": {
          "base_uri": "https://localhost:8080/",
          "height": 430
        }
      },
      "source": [
        "plt.plot(torch.tensor(lossi).view(-1, 1000).mean(1)) # Plot the average loss per 1000 steps\n",
        "plt.show()"
      ],
      "outputs": [
        {
          "output_type": "display_data",
          "data": {
            "text/plain": [
              "<Figure size 640x480 with 1 Axes>"
            ],
            "image/png": "[encoded data removed]"
          },
          "metadata": {}
        }
      ],
      "execution_count": null
    },
    {
      "cell_type": "code",
      "execution_count": null,
      "metadata": {
        "id": "gm2zfnLaKgay"
      },
      "outputs": [],
      "source": [
        "# put layers into eval mode (needed for batchnorm especially) see what happend at the above code\n",
        "for layer in model.layers:\n",
        "  layer.training = False # 위의 batchnorm1d에서 batch mean과 learning mean 중 learning mean을 사용하게 됨"
      ]
    },
    {
      "cell_type": "code",
      "execution_count": null,
      "metadata": {
        "id": "aBYvG3XAKgaz",
        "outputId": "18c6cb1b-91eb-4922-99ca-52f9fd5fa867",
        "colab": {
          "base_uri": "https://localhost:8080/"
        }
      },
      "outputs": [
        {
          "output_type": "stream",
          "name": "stdout",
          "text": [
            "train 1.6968271732330322\n",
            "val 1.9969829320907593\n"
          ]
        }
      ],
      "source": [
        "# evaluate the loss\n",
        "@torch.no_grad() # this decorator disables gradient tracking inside pytorch\n",
        "def split_loss(split):\n",
        "  x,y = {\n",
        "    'train': (Xtr, Ytr),\n",
        "    'val': (Xdev, Ydev),\n",
        "    'test': (Xte, Yte),\n",
        "  }[split]\n",
        "  logits = model(x)\n",
        "  loss = F.cross_entropy(logits, y)\n",
        "  print(split, loss.item())\n",
        "\n",
        "split_loss('train')\n",
        "split_loss('val')"
      ]
    },
    {
      "cell_type": "markdown",
      "metadata": {
        "id": "xyEA7bOZKgaz"
      },
      "source": [
        "### performance log\n",
        "\n",
        "- original (3 character context + 200 hidden neurons, 12K params): train 2.058, val 2.105\n",
        "- context: 3 -> 8 (22K params): train 1.918, val 2.027\n",
        "- flat -> hierarchical (22K params): train 1.941, val 2.029\n",
        "- fix bug in batchnorm: train 1.912, val 2.022\n",
        "- scale up the network: n_embd 24, n_hidden 128 (76K params): train 1.769, val 1.993\n"
      ]
    },
    {
      "cell_type": "code",
      "execution_count": null,
      "metadata": {
        "id": "VoRgGDPoKgaz",
        "outputId": "66767873-e342-41b3-bf4e-fa913aaaa572",
        "colab": {
          "base_uri": "https://localhost:8080/"
        }
      },
      "outputs": [
        {
          "output_type": "stream",
          "name": "stdout",
          "text": [
            "alexxa.\n",
            "gabriee.\n",
            "senakh.\n",
            "darian.\n",
            "harmonie.\n",
            "samariona.\n",
            "mycelina.\n",
            "tiarra.\n",
            "breone.\n",
            "wrynton.\n",
            "devaesha.\n",
            "wylen.\n",
            "deniely.\n",
            "armaya.\n",
            "zarah.\n",
            "darleena.\n",
            "xinobal.\n",
            "averiko.\n",
            "everon.\n",
            "maisen.\n"
          ]
        }
      ],
      "source": [
        "# sample from the model\n",
        "for _ in range(20):\n",
        "\n",
        "    out = []\n",
        "    context = [0] * block_size # initialize with all ...\n",
        "    while True:\n",
        "      # forward pass the neural net\n",
        "      logits = model(torch.tensor([context]))\n",
        "      probs = F.softmax(logits, dim=1)\n",
        "      # sample from the distribution\n",
        "      ix = torch.multinomial(probs, num_samples=1).item()\n",
        "      # shift the context window and track the samples\n",
        "      context = context[1:] + [ix]\n",
        "      out.append(ix)\n",
        "      # if we sample the special '.' token, break\n",
        "      if ix == 0:\n",
        "        break\n",
        "\n",
        "    print(''.join(itos[i] for i in out)) # decode and print the generated word"
      ]
    },
    {
      "cell_type": "markdown",
      "metadata": {
        "id": "XE_ApkJqKgaz"
      },
      "source": [
        "### Next time:\n",
        "Why convolutions? Brief preview/hint"
      ]
    },
    {
      "cell_type": "code",
      "execution_count": null,
      "metadata": {
        "id": "lN63_GQpKga0",
        "outputId": "ebc3df80-e08d-48a4-86a5-c4308bd7097b",
        "colab": {
          "base_uri": "https://localhost:8080/"
        }
      },
      "outputs": [
        {
          "output_type": "stream",
          "name": "stdout",
          "text": [
            "........ --> d\n",
            ".......d --> i\n",
            "......di --> o\n",
            ".....dio --> n\n",
            "....dion --> d\n",
            "...diond --> r\n",
            "..diondr --> e\n",
            ".diondre --> .\n"
          ]
        }
      ],
      "source": [
        "for x,y in zip(Xtr[7:15], Ytr[7:15]):\n",
        "  print(''.join(itos[ix.item()] for ix in x), '-->', itos[y.item()])"
      ]
    },
    {
      "cell_type": "code",
      "execution_count": null,
      "metadata": {
        "id": "BCJoBddMKga0",
        "outputId": "263e7899-e123-4fb8-d87c-0d3614e5a0ef"
      },
      "outputs": [
        {
          "data": {
            "text/plain": [
              "torch.Size([1, 27])"
            ]
          },
          "execution_count": 16,
          "metadata": {},
          "output_type": "execute_result"
        }
      ],
      "source": [
        "# forward a single example:\n",
        "logits = model(Xtr[[7]])\n",
        "logits.shape"
      ]
    },
    {
      "cell_type": "code",
      "execution_count": null,
      "metadata": {
        "id": "McgNaGNoKga0",
        "outputId": "050aa616-5344-4fdd-a2df-c83cbe1dde98"
      },
      "outputs": [
        {
          "data": {
            "text/plain": [
              "torch.Size([8, 27])"
            ]
          },
          "execution_count": 17,
          "metadata": {},
          "output_type": "execute_result"
        }
      ],
      "source": [
        "# forward all of them\n",
        "logits = torch.zeros(8, 27)\n",
        "for i in range(8):\n",
        "  logits[i] = model(Xtr[[7+i]])\n",
        "logits.shape"
      ]
    },
    {
      "cell_type": "code",
      "execution_count": null,
      "metadata": {
        "id": "CLRTDLAvKga0"
      },
      "outputs": [],
      "source": [
        "# convolution is a \"for loop\"\n",
        "# allows us to forward Linear layers efficiently over space"
      ]
    }
  ],
  "metadata": {
    "kernelspec": {
      "display_name": "Python 3",
      "language": "python",
      "name": "python3"
    },
    "language_info": {
      "codemirror_mode": {
        "name": "ipython",
        "version": 3
      },
      "file_extension": ".py",
      "mimetype": "text/x-python",
      "name": "python",
      "nbconvert_exporter": "python",
      "pygments_lexer": "ipython3",
      "version": "3.8.5"
    },
    "colab": {
      "provenance": [],
      "include_colab_link": true
    }
  },
  "nbformat": 4,
  "nbformat_minor": 0
}